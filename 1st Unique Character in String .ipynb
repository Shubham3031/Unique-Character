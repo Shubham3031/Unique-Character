{
 "cells": [
  {
   "cell_type": "code",
   "execution_count": 2,
   "id": "0b0afa75-90db-494a-8a5b-cc4f1c724aa0",
   "metadata": {},
   "outputs": [
    {
     "name": "stdout",
     "output_type": "stream",
     "text": [
      "0\n",
      "2\n",
      "-1\n"
     ]
    }
   ],
   "source": [
    "# Ans.\n",
    "\n",
    "def firstUniqueCharacter(s):\n",
    "    count={}\n",
    "    for char in s:\n",
    "        if char in count:\n",
    "            count[char]+=1\n",
    "        else:\n",
    "            count[char]=1\n",
    "            \n",
    "    for i in range (len(s)):\n",
    "        if count[s[i]]==1:\n",
    "            return i\n",
    "    return -1\n",
    "\n",
    "s1=\"leetcode\"\n",
    "s2=\"loveleetcode\"\n",
    "s3=\"aabb\"\n",
    "\n",
    "print(firstUniqueCharacter(s1))\n",
    "print(firstUniqueCharacter(s2))\n",
    "print(firstUniqueCharacter(s3))\n",
    "\n",
    "\n",
    "\n",
    "\n",
    "    \n",
    "            \n"
   ]
  },
  {
   "cell_type": "code",
   "execution_count": null,
   "id": "faf85ca8-43ca-4801-a61f-9eb5b729fada",
   "metadata": {},
   "outputs": [],
   "source": []
  }
 ],
 "metadata": {
  "kernelspec": {
   "display_name": "Python 3 (ipykernel)",
   "language": "python",
   "name": "python3"
  },
  "language_info": {
   "codemirror_mode": {
    "name": "ipython",
    "version": 3
   },
   "file_extension": ".py",
   "mimetype": "text/x-python",
   "name": "python",
   "nbconvert_exporter": "python",
   "pygments_lexer": "ipython3",
   "version": "3.10.6"
  }
 },
 "nbformat": 4,
 "nbformat_minor": 5
}
